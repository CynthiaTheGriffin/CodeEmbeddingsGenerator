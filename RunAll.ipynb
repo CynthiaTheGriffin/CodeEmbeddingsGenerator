{
 "cells": [
  {
   "cell_type": "markdown",
   "metadata": {},
   "source": [
    "## Example Code\n",
    "\n",
    "This example takes the source code from [a subdirectory within the Apache Ivy](https://github.com/apache/ant-ivy/tree/master/src/java/org/apache/ivy/tools/analyser) codebase."
   ]
  },
  {
   "cell_type": "code",
   "execution_count": 1,
   "metadata": {},
   "outputs": [],
   "source": [
    "from RunAll import *"
   ]
  },
  {
   "cell_type": "code",
   "execution_count": 1,
   "metadata": {},
   "outputs": [],
   "source": [
    "user = \"apache\" # Owner of target repository\n",
    "repo = \"ant-ivy\" # Repository name\n",
    "sub_dir = \"src/java/org/apache/ivy/tools/analyser\" # Target subdirectory from within repository\n",
    "\n",
    "token = \"\" # Fine-grained GitHub access token"
   ]
  },
  {
   "cell_type": "code",
   "execution_count": null,
   "metadata": {},
   "outputs": [],
   "source": [
    "get_download_urls(user, repo, sub_dir, token)"
   ]
  },
  {
   "cell_type": "markdown",
   "metadata": {},
   "source": [
    "There are some cases where the GitHubFileGetter fails, despite using a correct token, and you may encounter an error when running the above cell. If this happens to you, run the below cell instead."
   ]
  },
  {
   "cell_type": "code",
   "execution_count": 2,
   "metadata": {},
   "outputs": [],
   "source": [
    "import json\n",
    "from GitHubFileGetter import GitHubFileGetter\n",
    "\n",
    "# Get the download URLs of all Java files in the ivy subdirectory of the ant-ivy GitHub repository\n",
    "file_getter = GitHubFileGetter(token)\n",
    "java_files = file_getter.get_github_files(user, repo, sub_dir, extensions = [\"java\"])\n",
    "\n",
    "# Save URLs in a JSON file\n",
    "with open(\"download_urls.json\", \"w\") as f:\n",
    "    json.dump(java_files, f)"
   ]
  },
  {
   "cell_type": "code",
   "execution_count": 3,
   "metadata": {},
   "outputs": [
    {
     "name": "stdout",
     "output_type": "stream",
     "text": [
      "Generating code embeddings with #0: https://raw.githubusercontent.com/apache/ant-ivy/master/src/java/org/apache/ivy/tools/analyser/DependencyAnalyser.java\n",
      "Generating code embeddings with #1: https://raw.githubusercontent.com/apache/ant-ivy/master/src/java/org/apache/ivy/tools/analyser/JarJarDependencyAnalyser.java\n",
      "Generating code embeddings with #2: https://raw.githubusercontent.com/apache/ant-ivy/master/src/java/org/apache/ivy/tools/analyser/JarModule.java\n",
      "Generating code embeddings with #3: https://raw.githubusercontent.com/apache/ant-ivy/master/src/java/org/apache/ivy/tools/analyser/JarModuleFinder.java\n",
      "Generating code embeddings with #4: https://raw.githubusercontent.com/apache/ant-ivy/master/src/java/org/apache/ivy/tools/analyser/RepositoryAnalyser.java\n"
     ]
    }
   ],
   "source": [
    "generate_embeddings(sub_dir)"
   ]
  }
 ],
 "metadata": {
  "kernelspec": {
   "display_name": "csci420_05",
   "language": "python",
   "name": "python3"
  },
  "language_info": {
   "codemirror_mode": {
    "name": "ipython",
    "version": 3
   },
   "file_extension": ".py",
   "mimetype": "text/x-python",
   "name": "python",
   "nbconvert_exporter": "python",
   "pygments_lexer": "ipython3",
   "version": "3.12.7"
  }
 },
 "nbformat": 4,
 "nbformat_minor": 2
}
